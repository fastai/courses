{
 "cells": [
  {
   "cell_type": "code",
   "execution_count": 1,
   "metadata": {},
   "outputs": [],
   "source": [
    "path = \"data/redux/\""
   ]
  },
  {
   "cell_type": "code",
   "execution_count": 2,
   "metadata": {},
   "outputs": [],
   "source": [
    "from os import listdir\n",
    "from os.path import isfile, join"
   ]
  },
  {
   "cell_type": "code",
   "execution_count": 3,
   "metadata": {},
   "outputs": [],
   "source": [
    "import random\n",
    "import shutil\n",
    "import os"
   ]
  },
  {
   "cell_type": "code",
   "execution_count": 4,
   "metadata": {},
   "outputs": [],
   "source": [
    "all_files = [data_file for data_file in listdir(path+'train') if isfile(join(path+'train', data_file))]\n",
    "\n",
    "random.shuffle(all_files)\n",
    "x_train = all_files[:23000]\n",
    "x_valid = all_files[23000:]"
   ]
  },
  {
   "cell_type": "code",
   "execution_count": 5,
   "metadata": {},
   "outputs": [
    {
     "name": "stdout",
     "output_type": "stream",
     "text": [
      "/home/smriti/tuffbeggar/fastai_v1/courses/deeplearning1/nbs/data/redux\n"
     ]
    }
   ],
   "source": [
    "%cd data/redux\n",
    "%mkdir valid"
   ]
  },
  {
   "cell_type": "code",
   "execution_count": 6,
   "metadata": {},
   "outputs": [],
   "source": [
    "for x in x_valid:\n",
    "    shutil.move(join('train', x), 'valid')"
   ]
  },
  {
   "cell_type": "code",
   "execution_count": 7,
   "metadata": {},
   "outputs": [],
   "source": [
    "train_files = [train_file for train_file in listdir('train')]\n",
    "valid_files = [valid_file for valid_file in listdir('valid')]"
   ]
  },
  {
   "cell_type": "code",
   "execution_count": 8,
   "metadata": {},
   "outputs": [],
   "source": [
    "%mkdir sample\n",
    "%mkdir sample/train\n",
    "%mkdir sample/valid"
   ]
  },
  {
   "cell_type": "code",
   "execution_count": 9,
   "metadata": {},
   "outputs": [],
   "source": [
    "sample_valid_files = valid_files[:250]\n",
    "\n",
    "for x in valid_files:\n",
    "    shutil.copy(join('valid', x), 'sample/valid')\n",
    "\n",
    "sample_train_files = train_files[:2500]\n",
    "\n",
    "for x in sample_train_files:\n",
    "    shutil.copy(join('train', x), 'sample/train')"
   ]
  },
  {
   "cell_type": "code",
   "execution_count": 10,
   "metadata": {},
   "outputs": [
    {
     "name": "stdout",
     "output_type": "stream",
     "text": [
      "/home/smriti/tuffbeggar/fastai_v1/courses/deeplearning1/nbs/data/redux/train\n"
     ]
    }
   ],
   "source": [
    "%cd train\n",
    "%mkdir cats\n",
    "%mkdir dogs\n",
    "%mv cat.*.jpg cats\n",
    "%mv dog.*.jpg dogs"
   ]
  },
  {
   "cell_type": "code",
   "execution_count": 11,
   "metadata": {},
   "outputs": [
    {
     "name": "stdout",
     "output_type": "stream",
     "text": [
      "/home/smriti/tuffbeggar/fastai_v1/courses/deeplearning1/nbs/data/redux/valid\n"
     ]
    }
   ],
   "source": [
    "%cd ../valid\n",
    "%mkdir cats\n",
    "%mkdir dogs\n",
    "%mv cat.*.jpg cats\n",
    "%mv dog.*.jpg dogs"
   ]
  },
  {
   "cell_type": "code",
   "execution_count": 12,
   "metadata": {},
   "outputs": [
    {
     "name": "stdout",
     "output_type": "stream",
     "text": [
      "/home/smriti/tuffbeggar/fastai_v1/courses/deeplearning1/nbs/data/redux/sample/train\n"
     ]
    }
   ],
   "source": [
    "%cd ../sample/train\n",
    "%mkdir cats\n",
    "%mkdir dogs\n",
    "%mv cat.*.jpg cats\n",
    "%mv dog.*.jpg dogs"
   ]
  },
  {
   "cell_type": "code",
   "execution_count": 13,
   "metadata": {},
   "outputs": [
    {
     "name": "stdout",
     "output_type": "stream",
     "text": [
      "/home/smriti/tuffbeggar/fastai_v1/courses/deeplearning1/nbs/data/redux/sample/valid\n"
     ]
    }
   ],
   "source": [
    "%cd ../valid\n",
    "%mkdir cats\n",
    "%mkdir dogs\n",
    "%mv cat.*.jpg cats\n",
    "%mv dog.*.jpg dogs"
   ]
  },
  {
   "cell_type": "code",
   "execution_count": null,
   "metadata": {},
   "outputs": [],
   "source": []
  }
 ],
 "metadata": {
  "kernelspec": {
   "display_name": "Python 3",
   "language": "python",
   "name": "python3"
  },
  "language_info": {
   "codemirror_mode": {
    "name": "ipython",
    "version": 3
   },
   "file_extension": ".py",
   "mimetype": "text/x-python",
   "name": "python",
   "nbconvert_exporter": "python",
   "pygments_lexer": "ipython3",
   "version": "3.6.4"
  }
 },
 "nbformat": 4,
 "nbformat_minor": 2
}
