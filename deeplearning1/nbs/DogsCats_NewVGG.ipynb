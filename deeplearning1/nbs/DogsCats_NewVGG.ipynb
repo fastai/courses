{
 "cells": [
  {
   "cell_type": "markdown",
   "metadata": {},
   "source": [
    "## Load libraries, Set Filepaths"
   ]
  },
  {
   "cell_type": "code",
   "execution_count": 20,
   "metadata": {
    "collapsed": false
   },
   "outputs": [
    {
     "name": "stdout",
     "output_type": "stream",
     "text": [
      "/home/ubuntu/matt/courses/deeplearning1/nbs\n"
     ]
    },
    {
     "data": {
      "text/plain": [
       "<module 'allnew_vgg' from 'allnew_vgg.pyc'>"
      ]
     },
     "execution_count": 20,
     "metadata": {},
     "output_type": "execute_result"
    }
   ],
   "source": [
    "%cd '~/matt/courses/deeplearning1/nbs'\n",
    "import os\n",
    "from utils import *\n",
    "import keras.layers.convolutional as convolutional\n",
    "from keras.models import Sequential\n",
    "import allnew_vgg\n",
    "reload(allnew_vgg)\n",
    "import allnew_vgg as av\n",
    "reload(allnew_vgg)"
   ]
  },
  {
   "cell_type": "code",
   "execution_count": 21,
   "metadata": {
    "collapsed": false
   },
   "outputs": [
    {
     "name": "stdout",
     "output_type": "stream",
     "text": [
      "/home/ubuntu/matt/courses/deeplearning1/nbs\n",
      "/home/ubuntu/matt/courses/deeplearning1/nbs /home/ubuntu/matt/courses/deeplearning1/nbs/data/kag_dogscats/\n"
     ]
    }
   ],
   "source": [
    "%cd '~/matt/courses/deeplearning1/nbs'\n",
    "current_dir = os.getcwd()\n",
    "data_dir = current_dir + '/data/kag_dogscats/' #sample/\n",
    "# data_dir = current_dir + '/data/kag_dogscats/sample/'\n",
    "results_path=data_dir + 'results/'\n",
    "train_path=data_dir + 'train/'\n",
    "valid_path=data_dir + 'valid/'\n",
    "test_path=data_dir + 'test/'\n",
    "model_path=data_dir + 'models/'\n",
    "print current_dir, data_dir"
   ]
  },
  {
   "cell_type": "code",
   "execution_count": 4,
   "metadata": {
    "collapsed": false
   },
   "outputs": [
    {
     "name": "stdout",
     "output_type": "stream",
     "text": [
      "/home/ubuntu/matt/courses/deeplearning1/nbs/data/kag_dogscats\n"
     ]
    }
   ],
   "source": [
    "## build python functions to check for data and grab using cli otherwise\n",
    "PROJECT_DIR=current_dir\n",
    "DATA_HOME_DIR=data_dir\n",
    "#Create directories\n",
    "%mkdir -p $DATA_HOME_DIR\n",
    "%cd $DATA_HOME_DIR\n",
    "%mkdir -p valid\n",
    "%mkdir -p results\n",
    "%mkdir -p sample/train\n",
    "%mkdir -p sample/test\n",
    "%mkdir -p sample/valid\n",
    "%mkdir -p sample/results\n",
    "%mkdir -p test/unknown"
   ]
  },
  {
   "cell_type": "markdown",
   "metadata": {},
   "source": [
    "## Set variables"
   ]
  },
  {
   "cell_type": "code",
   "execution_count": 22,
   "metadata": {
    "collapsed": true
   },
   "outputs": [],
   "source": [
    "batch_size = 64\n",
    "no_of_epochs = 8"
   ]
  },
  {
   "cell_type": "markdown",
   "metadata": {},
   "source": [
    "## Build VGG model and load pretrained weights. Then Finetune"
   ]
  },
  {
   "cell_type": "code",
   "execution_count": 23,
   "metadata": {
    "collapsed": false
   },
   "outputs": [],
   "source": [
    "vgg = av.preloaded_vgg()"
   ]
  },
  {
   "cell_type": "code",
   "execution_count": 24,
   "metadata": {
    "collapsed": false,
    "scrolled": true
   },
   "outputs": [
    {
     "name": "stdout",
     "output_type": "stream",
     "text": [
      "starting number of layers:  38\n",
      "ending number of layers:  38\n"
     ]
    }
   ],
   "source": [
    "vgg.mnn_finetuner()"
   ]
  },
  {
   "cell_type": "code",
   "execution_count": 25,
   "metadata": {
    "collapsed": false
   },
   "outputs": [],
   "source": [
    "conv_layers, fc_layers = vgg.layer_divider()"
   ]
  },
  {
   "cell_type": "markdown",
   "metadata": {},
   "source": [
    "## Take convolutional layers and build new model class to work off of"
   ]
  },
  {
   "cell_type": "code",
   "execution_count": 45,
   "metadata": {
    "collapsed": false
   },
   "outputs": [],
   "source": [
    "mgg = av.adjusted_vgg()"
   ]
  },
  {
   "cell_type": "code",
   "execution_count": 46,
   "metadata": {
    "collapsed": true
   },
   "outputs": [],
   "source": [
    "mgg.create_conv_model(conv_layers)"
   ]
  },
  {
   "cell_type": "markdown",
   "metadata": {},
   "source": [
    "## Gather Batches"
   ]
  },
  {
   "cell_type": "code",
   "execution_count": 28,
   "metadata": {
    "collapsed": false
   },
   "outputs": [
    {
     "name": "stdout",
     "output_type": "stream",
     "text": [
      "Found 23000 images belonging to 2 classes.\n",
      "Found 2000 images belonging to 2 classes.\n"
     ]
    }
   ],
   "source": [
    "train = mgg.mnn_batches(train_path, batch_size=batch_size, train=True, shuffle=False)\n",
    "valid = mgg.mnn_batches(valid_path, batch_size=batch_size*2, train=False, shuffle=False)\n",
    "\n",
    "train_classes = train.classes\n",
    "valid_classes = valid.classes\n",
    "train_labels = onehot(train_classes)\n",
    "valid_labels = onehot(valid_classes)"
   ]
  },
  {
   "cell_type": "markdown",
   "metadata": {},
   "source": [
    "## Train weights for base model built above, save them to iterate new layers"
   ]
  },
  {
   "cell_type": "code",
   "execution_count": 40,
   "metadata": {
    "collapsed": false
   },
   "outputs": [],
   "source": [
    "train_features = mgg.model.predict_generator(generator=train, val_samples=train.nb_sample)\n",
    "valid_features = mgg.model.predict_generator(generator=valid, val_samples=valid.nb_sample)"
   ]
  },
  {
   "cell_type": "code",
   "execution_count": 41,
   "metadata": {
    "collapsed": true
   },
   "outputs": [],
   "source": [
    "save_array(model_path+'train_convlayer_features.bc', train_features)\n",
    "save_array(model_path+'valid_convlayer_features.bc', valid_features)"
   ]
  },
  {
   "cell_type": "markdown",
   "metadata": {},
   "source": [
    "## Load base weights"
   ]
  },
  {
   "cell_type": "code",
   "execution_count": 29,
   "metadata": {
    "collapsed": true
   },
   "outputs": [],
   "source": [
    "train_features = load_array(model_path+'train_convlayer_features.bc')\n",
    "valid_features = load_array(model_path+'valid_convlayer_features.bc')"
   ]
  },
  {
   "cell_type": "markdown",
   "metadata": {},
   "source": [
    "## Create a model of just dense layers, using shape of trained features above"
   ]
  },
  {
   "cell_type": "code",
   "execution_count": 47,
   "metadata": {
    "collapsed": false
   },
   "outputs": [],
   "source": [
    "mgg.create_fc_model(train_features, p=.4)"
   ]
  },
  {
   "cell_type": "code",
   "execution_count": 48,
   "metadata": {
    "collapsed": false
   },
   "outputs": [],
   "source": [
    "mgg.add_fc_weights(fc_layers)"
   ]
  },
  {
   "cell_type": "code",
   "execution_count": 49,
   "metadata": {
    "collapsed": false
   },
   "outputs": [],
   "source": [
    "mgg.fc_model.compile(optimizer=Adam(), loss='categorical_crossentropy', metrics=['accuracy'])\n",
    "# fc_model = mgg.dense_layer_model(fc_layers, input_shape=train_features.shape[1:])"
   ]
  },
  {
   "cell_type": "code",
   "execution_count": 50,
   "metadata": {
    "collapsed": false
   },
   "outputs": [
    {
     "name": "stdout",
     "output_type": "stream",
     "text": [
      "Train on 23000 samples, validate on 2000 samples\n",
      "Epoch 1/8\n",
      "23000/23000 [==============================] - 38s - loss: 0.3053 - acc: 0.9546 - val_loss: 0.0476 - val_acc: 0.9840\n",
      "Epoch 2/8\n",
      "23000/23000 [==============================] - 39s - loss: 0.0747 - acc: 0.9757 - val_loss: 0.0459 - val_acc: 0.9860\n",
      "Epoch 3/8\n",
      "23000/23000 [==============================] - 41s - loss: 0.0316 - acc: 0.9895 - val_loss: 0.0807 - val_acc: 0.9775\n",
      "Epoch 4/8\n",
      "23000/23000 [==============================] - 40s - loss: 0.0324 - acc: 0.9902 - val_loss: 0.0591 - val_acc: 0.9810\n",
      "Epoch 5/8\n",
      "23000/23000 [==============================] - 41s - loss: 0.0218 - acc: 0.9927 - val_loss: 0.1213 - val_acc: 0.9825\n",
      "Epoch 6/8\n",
      "23000/23000 [==============================] - 40s - loss: 0.0229 - acc: 0.9930 - val_loss: 0.1016 - val_acc: 0.9805\n",
      "Epoch 7/8\n",
      "23000/23000 [==============================] - 40s - loss: 0.0242 - acc: 0.9930 - val_loss: 0.0812 - val_acc: 0.9840\n",
      "Epoch 8/8\n",
      "23000/23000 [==============================] - 41s - loss: 0.0259 - acc: 0.9924 - val_loss: 0.0836 - val_acc: 0.9820\n"
     ]
    },
    {
     "data": {
      "text/plain": [
       "<keras.callbacks.History at 0x7f3d14d35650>"
      ]
     },
     "execution_count": 50,
     "metadata": {},
     "output_type": "execute_result"
    }
   ],
   "source": [
    "mgg.fc_model.fit(x=train_features, y=train_labels, nb_epoch=8, batch_size=64, validation_data=(valid_features, valid_labels))"
   ]
  },
  {
   "cell_type": "code",
   "execution_count": 52,
   "metadata": {
    "collapsed": false
   },
   "outputs": [],
   "source": [
    "weights_name = 'dogscats_dropout_iter.h5'\n",
    "mgg.fc_model.save_weights(results_path+weights_name)\n",
    "# fc_model.load_weights(results_path+'dogcats_clean.h5')"
   ]
  },
  {
   "cell_type": "markdown",
   "metadata": {},
   "source": [
    "## Combine Weights from New Model with Old Model"
   ]
  },
  {
   "cell_type": "code",
   "execution_count": 159,
   "metadata": {
    "collapsed": false
   },
   "outputs": [],
   "source": [
    "for layer in fc_layers: \n",
    "    mgg.model.add(layer)\n",
    "\n",
    "for l1,l2 in zip(fc_model.layers, mgg.model.layers[len(conv_layers):]):\n",
    "    l2.set_weights(l1.get_weights())"
   ]
  },
  {
   "cell_type": "markdown",
   "metadata": {},
   "source": [
    "## Generate Test Batches and Make Predictions"
   ]
  },
  {
   "cell_type": "code",
   "execution_count": 161,
   "metadata": {
    "collapsed": false
   },
   "outputs": [
    {
     "name": "stdout",
     "output_type": "stream",
     "text": [
      "Found 12500 images belonging to 1 classes.\n"
     ]
    }
   ],
   "source": [
    "test_batches = get_batches(test_path, shuffle=False, batch_size=batch_size*2, class_mode=None)"
   ]
  },
  {
   "cell_type": "code",
   "execution_count": 163,
   "metadata": {
    "collapsed": false
   },
   "outputs": [],
   "source": [
    "predictions = mgg.model.predict_generator(test_batches, test_batches.nb_sample)"
   ]
  },
  {
   "cell_type": "code",
   "execution_count": 165,
   "metadata": {
    "collapsed": false
   },
   "outputs": [],
   "source": [
    "filenames = test_batches.filenames\n",
    "\n",
    "save_array(results_path + 'test_predictions.dat', predictions)\n",
    "save_array(results_path + 'filenames.dat', filenames)"
   ]
  },
  {
   "cell_type": "markdown",
   "metadata": {},
   "source": [
    "## Formatting submission correctly, including \"clipped\" max and min"
   ]
  },
  {
   "cell_type": "code",
   "execution_count": 169,
   "metadata": {
    "collapsed": false
   },
   "outputs": [],
   "source": [
    "subm = mgg.submission_formatter(filenames, predictions, 1, .055, .945)"
   ]
  },
  {
   "cell_type": "markdown",
   "metadata": {},
   "source": [
    "## Saving Predictions CSV and Generating a Click-able Link "
   ]
  },
  {
   "cell_type": "code",
   "execution_count": 170,
   "metadata": {
    "collapsed": true
   },
   "outputs": [],
   "source": [
    "np.savetxt(results_path+'clean_model_submission.csv', subm, fmt='%d,%.5f', header='id,label', comments='')"
   ]
  },
  {
   "cell_type": "code",
   "execution_count": 186,
   "metadata": {
    "collapsed": false
   },
   "outputs": [
    {
     "name": "stderr",
     "output_type": "stream",
     "text": [
      "ERROR:root:Line magic function `%kg` not found.\n"
     ]
    },
    {
     "name": "stdout",
     "output_type": "stream",
     "text": [
      "/home/ubuntu/courses/deeplearning1/nbs/results\n"
     ]
    }
   ],
   "source": [
    "# if filelink is not working, use commands below in command line\n",
    "# %kg submit results/clean_model_submission.csv -m \"Adding dropout and augmentation to VGG16.\""
   ]
  },
  {
   "cell_type": "code",
   "execution_count": 183,
   "metadata": {
    "collapsed": false
   },
   "outputs": [
    {
     "data": {
      "text/html": [
       "<a href='clean_model_submission.csv' target='_blank'>clean_model_submission.csv</a><br>"
      ],
      "text/plain": [
       "/home/ubuntu/courses/deeplearning1/nbs/data/kag_dogscats/results/clean_model_submission.csv"
      ]
     },
     "execution_count": 183,
     "metadata": {},
     "output_type": "execute_result"
    }
   ],
   "source": [
    "# from IPython.display import FileLink\n",
    "# FileLink(results_path+'clean_model_submission.csv')"
   ]
  }
 ],
 "metadata": {
  "anaconda-cloud": {},
  "kernelspec": {
   "display_name": "Python [conda root]",
   "language": "python",
   "name": "conda-root-py"
  },
  "language_info": {
   "codemirror_mode": {
    "name": "ipython",
    "version": 2
   },
   "file_extension": ".py",
   "mimetype": "text/x-python",
   "name": "python",
   "nbconvert_exporter": "python",
   "pygments_lexer": "ipython2",
   "version": "2.7.12"
  }
 },
 "nbformat": 4,
 "nbformat_minor": 1
}
